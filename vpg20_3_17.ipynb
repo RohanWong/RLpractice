{
 "cells": [
  {
   "cell_type": "markdown",
   "metadata": {},
   "source": [
    "# 算法学习VPG 2020/3/17"
   ]
  },
  {
   "cell_type": "code",
   "execution_count": 8,
   "metadata": {},
   "outputs": [
    {
     "name": "stdout",
     "output_type": "stream",
     "text": [
      "observation shape (4,)\n",
      "action shape ()\n"
     ]
    }
   ],
   "source": [
    "import tensorflow as tf\n",
    "import gym\n",
    "import numpy as np\n",
    "\n",
    "env = gym.make('CartPole-v0')\n",
    "\n",
    "obs_shape = env.observation_space.shape\n",
    "act_shape = env.action_space.shape\n",
    "\n",
    "print(\"observation shape\", obs_shape)\n",
    "print(\"action shape\", act_shape)"
   ]
  },
  {
   "cell_type": "code",
   "execution_count": null,
   "metadata": {},
   "outputs": [],
   "source": [
    "obs_ph = tf.placeholder(dtype=tf.float32, shape=obs_shape)\n",
    "act_ph = tf.placeholder(dtype=tf.int32, shape=(None,))\n",
    "R_ph = tf.placeholder(dtype=tf.float32, shape=None)\n",
    "\n",
    "layer1 = tf.layers.dense(obs_ph[np.newaxis,:], activation=tf.tanh, units=32)\n",
    "layer2 = tf.layers.dense(layer1, activation=tf.tanh, units=32)\n",
    "out = tf.layers.dense(layer2, activation=None, units=env.action_space.n)"
   ]
  },
  {
   "cell_type": "code",
   "execution_count": 19,
   "metadata": {},
   "outputs": [],
   "source": [
    "logp_all = tf.nn.log_softmax(out)\n",
    "pi = tf.squeeze(tf.multinomial(out,1), axis=1) #choose an action at state now\n",
    "logp = tf.reduce_sum(tf.one_hot(act_ph, depth=env.action_space.n) * logp_all, axis=1) #log p of choosing this action\n",
    "\n",
    "pi_loss = -tf.reduce_mean(logp * R_ph)\n",
    "train_pi = tf.train.AdamOptimizer(learning_rate=3e-4).minimize(pi_loss)"
   ]
  },
  {
   "cell_type": "code",
   "execution_count": null,
   "metadata": {},
   "outputs": [],
   "source": [
    "sess = tf.Session()\n",
    "sess.run(tf.global_variables_initializer())\n",
    "for epoch in range(1000):\n",
    "    obs = env.reset()\n",
    "    for step in range(epoch):\n",
    "        act = sess.run(pi, feed_dict={obs_ph:obs})\n",
    "        ob2, r, d, _ = env.step(act[0])\n",
    "        env.render()\n",
    "        sess.run(train_pi, feed_dict={obs_ph:obs, act_ph:act, R_ph:r})\n",
    "        if d:\n",
    "            break\n",
    "        \n",
    "    "
   ]
  }
 ],
 "metadata": {
  "kernelspec": {
   "display_name": "Python 3",
   "language": "python",
   "name": "python3"
  },
  "language_info": {
   "codemirror_mode": {
    "name": "ipython",
    "version": 3
   },
   "file_extension": ".py",
   "mimetype": "text/x-python",
   "name": "python",
   "nbconvert_exporter": "python",
   "pygments_lexer": "ipython3",
   "version": "3.7.4"
  }
 },
 "nbformat": 4,
 "nbformat_minor": 4
}
